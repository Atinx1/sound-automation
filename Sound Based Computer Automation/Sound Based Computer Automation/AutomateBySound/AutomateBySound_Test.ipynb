{
 "cells": [
  {
   "cell_type": "code",
   "execution_count": 1,
   "metadata": {},
   "outputs": [
    {
     "name": "stdout",
     "output_type": "stream",
     "text": [
      "listening!\n",
      "plotting\n"
     ]
    },
    {
     "data": {
      "text/plain": [
       "<Figure size 640x480 with 1 Axes>"
      ]
     },
     "metadata": {},
     "output_type": "display_data"
    },
    {
     "name": "stdout",
     "output_type": "stream",
     "text": [
      "maximum vlaue\n",
      "0.19433594\n",
      "listening!\n",
      "plotting\n"
     ]
    },
    {
     "data": {
      "text/plain": [
       "<Figure size 640x480 with 1 Axes>"
      ]
     },
     "metadata": {},
     "output_type": "display_data"
    },
    {
     "name": "stdout",
     "output_type": "stream",
     "text": [
      "maximum vlaue\n",
      "0.3699646\n",
      "listening!\n",
      "plotting\n"
     ]
    },
    {
     "data": {
      "text/plain": [
       "<Figure size 640x480 with 1 Axes>"
      ]
     },
     "metadata": {},
     "output_type": "display_data"
    },
    {
     "name": "stdout",
     "output_type": "stream",
     "text": [
      "maximum vlaue\n",
      "0.3059082\n",
      "listening!\n",
      "plotting\n"
     ]
    },
    {
     "data": {
      "text/plain": [
       "<Figure size 640x480 with 1 Axes>"
      ]
     },
     "metadata": {},
     "output_type": "display_data"
    },
    {
     "name": "stdout",
     "output_type": "stream",
     "text": [
      "maximum vlaue\n",
      "0.24520874\n",
      "listening!\n",
      "plotting\n"
     ]
    },
    {
     "data": {
      "text/plain": [
       "<Figure size 640x480 with 1 Axes>"
      ]
     },
     "metadata": {},
     "output_type": "display_data"
    },
    {
     "name": "stdout",
     "output_type": "stream",
     "text": [
      "maximum vlaue\n",
      "0.2268982\n",
      "listening!\n",
      "plotting\n"
     ]
    },
    {
     "data": {
      "text/plain": [
       "<Figure size 640x480 with 1 Axes>"
      ]
     },
     "metadata": {},
     "output_type": "display_data"
    },
    {
     "name": "stdout",
     "output_type": "stream",
     "text": [
      "maximum vlaue\n",
      "0.08547974\n",
      "listening!\n",
      "plotting\n"
     ]
    },
    {
     "data": {
      "text/plain": [
       "<Figure size 640x480 with 1 Axes>"
      ]
     },
     "metadata": {},
     "output_type": "display_data"
    },
    {
     "name": "stdout",
     "output_type": "stream",
     "text": [
      "maximum vlaue\n",
      "0.083984375\n",
      "listening!\n",
      "plotting\n"
     ]
    },
    {
     "data": {
      "text/plain": [
       "<Figure size 640x480 with 1 Axes>"
      ]
     },
     "metadata": {},
     "output_type": "display_data"
    },
    {
     "name": "stdout",
     "output_type": "stream",
     "text": [
      "maximum vlaue\n",
      "0.04434204\n",
      "listening!\n",
      "plotting\n"
     ]
    },
    {
     "data": {
      "text/plain": [
       "<Figure size 640x480 with 1 Axes>"
      ]
     },
     "metadata": {},
     "output_type": "display_data"
    },
    {
     "name": "stdout",
     "output_type": "stream",
     "text": [
      "maximum vlaue\n",
      "0.07833862\n",
      "listening!\n",
      "plotting\n"
     ]
    },
    {
     "data": {
      "text/plain": [
       "<Figure size 640x480 with 1 Axes>"
      ]
     },
     "metadata": {},
     "output_type": "display_data"
    },
    {
     "name": "stdout",
     "output_type": "stream",
     "text": [
      "maximum vlaue\n",
      "0.14624023\n"
     ]
    }
   ],
   "source": [
    "########################################################\n",
    "### This is a python file(.ipynb) for Jupyter      #####\n",
    "### The code is property of EFY magazine            ####\n",
    "### https://efymag.com                 #################\n",
    "\n",
    "### Author: Vijaykumar Sajjanar                 ########\n",
    "### email: ec.vijaykumar@bldeacet.ac.in             ####\n",
    "### Phone: (+91)9980 67 7175                 ###########\n",
    "########################################################\n",
    "\n",
    "\n",
    "# MICROPHONE SENSITIVITY TESTING SCRIPT\n",
    "# Requires 3 packages, sounddevice-matplotlib-numpy\n",
    "# matplotlib-numpy come preinstalled with Anaconda package\n",
    "\n",
    "for i in range (0,10):                                  # Find sound intensity 10 times\n",
    "    import sounddevice as sd                            # Sounddevice is to be installed using pip\n",
    "    RATE = 44100                                        # Sample rate\n",
    "    RECORD_SECONDS = 5                                  # Duration of recording\n",
    "    print(\"listening!\")\n",
    "   \n",
    "                                                        # Record from default input sound device\n",
    "    myrecording = sd.rec(int(RECORD_SECONDS * RATE), samplerate=RATE, channels=2)\n",
    "    sd.wait() \n",
    "    \n",
    "                                                        # Plot graph using matplotlib\n",
    "    print(\"plotting\")\n",
    "    import matplotlib.pyplot as plt\n",
    "    plt.plot(myrecording)\n",
    "    plt.ylabel('intensity')\n",
    "    plt.show()\n",
    "                                                        # Analyse np array and find highest value\n",
    "    import numpy as np\n",
    "    data=np.amax(myrecording)\n",
    "    print(\"maximum vlaue\")\n",
    "    print(data)\n",
    "\n",
    "########################################################\n",
    "################## END OF SCRIPT #######################\n",
    "########################################################"
   ]
  },
  {
   "cell_type": "code",
   "execution_count": null,
   "metadata": {},
   "outputs": [],
   "source": []
  }
 ],
 "metadata": {
  "kernelspec": {
   "display_name": "Python 3",
   "language": "python",
   "name": "python3"
  },
  "language_info": {
   "codemirror_mode": {
    "name": "ipython",
    "version": 3
   },
   "file_extension": ".py",
   "mimetype": "text/x-python",
   "name": "python",
   "nbconvert_exporter": "python",
   "pygments_lexer": "ipython3",
   "version": "3.7.0"
  }
 },
 "nbformat": 4,
 "nbformat_minor": 2
}
